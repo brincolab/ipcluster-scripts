{
 "cells": [
  {
   "cell_type": "code",
   "execution_count": 1,
   "metadata": {},
   "outputs": [],
   "source": [
    "import numpy as np\n",
    "import itertools\n",
    "\n",
    "N = 10 ## Cambiar lectura de matriz\n",
    "k = N-1\n",
    "covmat = np.random.rand(N,N) #Aca corresponde ingresar la matriz de covarianzas ya calculada\n",
    "covmat[[range(0,N)],[range(0,N)]] = 1 #Esta linea esta demas, eliminar cuando se vea como recibir la matriz desde matlab\n",
    "arr = list(range(0,N)) #Arreglo para generar las mascaras de las submatrices cuadradas"
   ]
  },
  {
   "cell_type": "code",
   "execution_count": 2,
   "metadata": {},
   "outputs": [
    {
     "data": {
      "text/plain": [
       "[0, 1, 2, 3, 4, 5, 6, 7, 8, 9]"
      ]
     },
     "execution_count": 2,
     "metadata": {},
     "output_type": "execute_result"
    }
   ],
   "source": [
    "arr"
   ]
  },
  {
   "cell_type": "code",
   "execution_count": 3,
   "metadata": {},
   "outputs": [
    {
     "name": "stderr",
     "output_type": "stream",
     "text": [
      "/opt/miniconda/envs/jupyterhub/lib/python3.6/site-packages/ipyparallel/client/client.py:459: RuntimeWarning: \n",
      "            Controller appears to be listening on localhost, but not on this machine.\n",
      "            If this is true, you should specify Client(...,sshserver='you@brincolab1')\n",
      "            or instruct your controller to listen on an external IP.\n",
      "  RuntimeWarning)\n"
     ]
    }
   ],
   "source": [
    "from ipyparallel import Client\n",
    "rc = Client(profile='brincolab-cluster')\n",
    "rc.purge_everything()  #Limpiar la sesion"
   ]
  },
  {
   "cell_type": "code",
   "execution_count": 4,
   "metadata": {},
   "outputs": [],
   "source": [
    "dview = rc[:] # use all engines"
   ]
  },
  {
   "cell_type": "code",
   "execution_count": 5,
   "metadata": {},
   "outputs": [],
   "source": [
    "dview['covmat'] = covmat #Distribuimos la matriz de covarianza"
   ]
  },
  {
   "cell_type": "code",
   "execution_count": 6,
   "metadata": {},
   "outputs": [],
   "source": [
    "dview.block = True #Modo block"
   ]
  },
  {
   "cell_type": "code",
   "execution_count": 7,
   "metadata": {},
   "outputs": [],
   "source": [
    "import scipy.io as sio"
   ]
  },
  {
   "cell_type": "code",
   "execution_count": 10,
   "metadata": {},
   "outputs": [],
   "source": [
    "indexes = sio.loadmat('int_list.mat')"
   ]
  },
  {
   "cell_type": "code",
   "execution_count": 11,
   "metadata": {},
   "outputs": [
    {
     "data": {
      "text/plain": [
       "{'__header__': b'MATLAB 5.0 MAT-file, Platform: GLNXA64, Created on: Thu Aug 29 20:41:57 2019',\n",
       " '__version__': '1.0',\n",
       " '__globals__': [],\n",
       " 'int_list': array([[array([[1, 2]], dtype=uint8)],\n",
       "        [array([[1, 3]], dtype=uint8)],\n",
       "        [array([[1, 4]], dtype=uint8)],\n",
       "        ...,\n",
       "        [array([[ 1,  2,  4,  5,  6,  7,  8,  9, 10]], dtype=uint8)],\n",
       "        [array([[ 1,  3,  4,  5,  6,  7,  8,  9, 10]], dtype=uint8)],\n",
       "        [array([[ 2,  3,  4,  5,  6,  7,  8,  9, 10]], dtype=uint8)]],\n",
       "       dtype=object)}"
      ]
     },
     "execution_count": 11,
     "metadata": {},
     "output_type": "execute_result"
    }
   ],
   "source": [
    "indexes"
   ]
  },
  {
   "cell_type": "code",
   "execution_count": 12,
   "metadata": {},
   "outputs": [],
   "source": [
    "indexes_list = indexes['int_list']"
   ]
  },
  {
   "cell_type": "code",
   "execution_count": 63,
   "metadata": {},
   "outputs": [
    {
     "data": {
      "text/plain": [
       "array([[array([[1, 2]], dtype=uint8)],\n",
       "       [array([[1, 3]], dtype=uint8)],\n",
       "       [array([[1, 4]], dtype=uint8)],\n",
       "       ...,\n",
       "       [array([[ 1,  2,  4,  5,  6,  7,  8,  9, 10]], dtype=uint8)],\n",
       "       [array([[ 1,  3,  4,  5,  6,  7,  8,  9, 10]], dtype=uint8)],\n",
       "       [array([[ 2,  3,  4,  5,  6,  7,  8,  9, 10]], dtype=uint8)]],\n",
       "      dtype=object)"
      ]
     },
     "execution_count": 63,
     "metadata": {},
     "output_type": "execute_result"
    }
   ],
   "source": [
    "indexes_list"
   ]
  },
  {
   "cell_type": "code",
   "execution_count": 21,
   "metadata": {},
   "outputs": [
    {
     "name": "stdout",
     "output_type": "stream",
     "text": [
      "importing numpy on engine(s)\n"
     ]
    }
   ],
   "source": [
    "with dview.sync_imports():\n",
    "    import numpy"
   ]
  },
  {
   "cell_type": "code",
   "execution_count": 22,
   "metadata": {},
   "outputs": [],
   "source": [
    "dview.scatter('indexes_list',indexes_list)"
   ]
  },
  {
   "cell_type": "code",
   "execution_count": 19,
   "metadata": {},
   "outputs": [
    {
     "data": {
      "text/plain": [
       "1008"
      ]
     },
     "execution_count": 19,
     "metadata": {},
     "output_type": "execute_result"
    }
   ],
   "source": []
  },
  {
   "cell_type": "code",
   "execution_count": 20,
   "metadata": {},
   "outputs": [
    {
     "data": {
      "text/plain": [
       "1012"
      ]
     },
     "execution_count": 20,
     "metadata": {},
     "output_type": "execute_result"
    }
   ],
   "source": []
  },
  {
   "cell_type": "code",
   "execution_count": 59,
   "metadata": {},
   "outputs": [],
   "source": [
    "def det():\n",
    "    N = len(indexes_list)\n",
    "    dets = numpy.zeros(N,dtype=numpy.float32)\n",
    "    if len(indexes_list) > 0:\n",
    "        idx_mat = indexes_list\n",
    "    else:    \n",
    "        return {'dets':[],'matrices':[],'idx':[]}\n",
    "    matrices = []\n",
    "    idxs = []\n",
    "    i=0\n",
    "    for ind in idx_mat:\n",
    "        idx = ind[0][0] - 1\n",
    "        #idxs.append(idx)\n",
    "        matrix = covmat[idx][:,idx]\n",
    "        dets[i] = numpy.linalg.det(matrix)\n",
    "        matrices.append(matrix)\n",
    "        idxs.append(idx)\n",
    "        i += 1\n",
    "    return {'dets':dets,'idx':idxs}"
   ]
  },
  {
   "cell_type": "code",
   "execution_count": 60,
   "metadata": {},
   "outputs": [],
   "source": [
    "ar = dview.apply_async(det)\n",
    "ar.wait()\n",
    "responses = ar.get()"
   ]
  },
  {
   "cell_type": "code",
   "execution_count": 62,
   "metadata": {},
   "outputs": [
    {
     "data": {
      "text/plain": [
       "{'dets': array([-0.02960647,  0.05640502, -0.0231486 ,  0.02547812,  0.05955626,\n",
       "        -0.07495055, -0.0481547 , -0.00211531, -0.00478945,  0.09500429,\n",
       "         0.00023158,  0.0686745 ,  0.07587979,  0.01008717, -0.12256154,\n",
       "         0.0587662 ], dtype=float32),\n",
       " 'idx': [array([0, 1, 2, 3, 4, 5, 8, 9], dtype=uint8),\n",
       "  array([0, 1, 2, 3, 4, 5, 7, 9], dtype=uint8),\n",
       "  array([0, 1, 2, 3, 4, 5, 7, 8], dtype=uint8),\n",
       "  array([0, 1, 2, 3, 4, 5, 6, 9], dtype=uint8),\n",
       "  array([0, 1, 2, 3, 4, 5, 6, 8], dtype=uint8),\n",
       "  array([0, 1, 2, 3, 4, 5, 6, 7], dtype=uint8),\n",
       "  array([0, 1, 2, 3, 4, 5, 6, 7, 8], dtype=uint8),\n",
       "  array([0, 1, 2, 3, 4, 5, 6, 7, 9], dtype=uint8),\n",
       "  array([0, 1, 2, 3, 4, 5, 6, 8, 9], dtype=uint8),\n",
       "  array([0, 1, 2, 3, 4, 5, 7, 8, 9], dtype=uint8),\n",
       "  array([0, 1, 2, 3, 4, 6, 7, 8, 9], dtype=uint8),\n",
       "  array([0, 1, 2, 3, 5, 6, 7, 8, 9], dtype=uint8),\n",
       "  array([0, 1, 2, 4, 5, 6, 7, 8, 9], dtype=uint8),\n",
       "  array([0, 1, 3, 4, 5, 6, 7, 8, 9], dtype=uint8),\n",
       "  array([0, 2, 3, 4, 5, 6, 7, 8, 9], dtype=uint8),\n",
       "  array([1, 2, 3, 4, 5, 6, 7, 8, 9], dtype=uint8)]}"
      ]
     },
     "execution_count": 62,
     "metadata": {},
     "output_type": "execute_result"
    }
   ],
   "source": [
    "responses[-1]"
   ]
  },
  {
   "cell_type": "code",
   "execution_count": null,
   "metadata": {},
   "outputs": [],
   "source": []
  }
 ],
 "metadata": {
  "kernelspec": {
   "display_name": "Python 3",
   "language": "python",
   "name": "python3"
  },
  "language_info": {
   "codemirror_mode": {
    "name": "ipython",
    "version": 3
   },
   "file_extension": ".py",
   "mimetype": "text/x-python",
   "name": "python",
   "nbconvert_exporter": "python",
   "pygments_lexer": "ipython3",
   "version": "3.6.7"
  }
 },
 "nbformat": 4,
 "nbformat_minor": 2
}
